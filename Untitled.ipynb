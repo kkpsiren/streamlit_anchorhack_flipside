{
 "cells": [
  {
   "cell_type": "code",
   "execution_count": 1,
   "id": "ede9e232-800b-4116-a7a5-656295edac5c",
   "metadata": {},
   "outputs": [],
   "source": [
    "IMAGE_QUERY = \"\"\"\n",
    "with min_dt as (\n",
    "  select min(block_timestamp) + interval '1 hour' as min_timestamp\n",
    "  from ethereum.core.ez_nft_mints\n",
    "  where nft_address = '0x903e2f5d42ee23156d548dd46bb84b7873789e44' \n",
    "),\n",
    "nft_data as (\n",
    "select NFT_TO_ADDRESS, tokenid, block_timestamp\n",
    "from ethereum.core.ez_nft_mints\n",
    "  where nft_address = '0x903e2f5d42ee23156d548dd46bb84b7873789e44'\n",
    "  and block_timestamp <= (select min_timestamp from min_dt) \n",
    "order by 1 desc\n",
    "  ),\n",
    "nft_per_wallet as (\n",
    "  select nft_to_address, count(tokenid)\n",
    "  from nft_data\n",
    "  group by 1\n",
    ")\n",
    "select buyer_address, nft_address, tokenid, price, m.token_metadata, m.token_metadata_uri, m.token_name, m.project_name, image_url\n",
    "from ethereum.core.ez_nft_sales n\n",
    "left join flipside_prod_db.ethereum.nft_metadata m on m.contract_address = nft_address and token_id=tokenid\n",
    "where buyer_address in (select nft_to_address from nft_per_wallet)\n",
    "and block_timestamp > getdate() - interval '6 months'\n",
    "and  nft_address != '0x903e2f5d42ee23156d548dd46bb84b7873789e44'\n",
    "and currency_symbol in ('WETH','ETH')\n",
    "and price > 0\n",
    "\"\"\"\n",
    "\n",
    "SQL_QUERY = \"\"\"\n",
    "with min_dt as (\n",
    "  select min(block_timestamp) + interval '1 hour' as min_timestamp\n",
    "  from ethereum.core.ez_nft_mints\n",
    "  where nft_address = '0x903e2f5d42ee23156d548dd46bb84b7873789e44' \n",
    "),\n",
    "nft_data as (\n",
    "select NFT_TO_ADDRESS, tokenid, block_timestamp\n",
    "from ethereum.core.ez_nft_mints\n",
    "  where nft_address = '0x903e2f5d42ee23156d548dd46bb84b7873789e44'\n",
    "  and block_timestamp <= (select min_timestamp from min_dt) \n",
    "order by 1 desc\n",
    "  ),\n",
    "nft_per_wallet as (\n",
    "  select nft_to_address, count(tokenid)\n",
    "  from nft_data\n",
    "  group by 1\n",
    ")\n",
    "select balance_date, user_address, label, contract_address, symbol, balance, amount_usd\n",
    "from flipside_prod_db.ethereum.erc20_balances\n",
    "where user_address in (select nft_to_address from nft_per_wallet)\n",
    "and balance_date in ('2022-06-06','2022-06-07','2022-06-08')\n",
    "    \"\"\"\n",
    "    \n",
    "MINTED_QUERY = \"\"\"\n",
    "with min_dt as (\n",
    "  select min(block_timestamp) + interval '1 hour' as min_timestamp\n",
    "  from ethereum.core.ez_nft_mints\n",
    "  where nft_address = '0x903e2f5d42ee23156d548dd46bb84b7873789e44' \n",
    "),\n",
    "nft_data as (\n",
    "select NFT_TO_ADDRESS as USER_ADDRESS, tokenid, block_timestamp\n",
    "from ethereum.core.ez_nft_mints\n",
    "  where nft_address = '0x903e2f5d42ee23156d548dd46bb84b7873789e44'\n",
    "  and block_timestamp <= (select min_timestamp from min_dt) \n",
    "order by 1 desc\n",
    ")\n",
    "select * from nft_data\"\"\""
   ]
  },
  {
   "cell_type": "code",
   "execution_count": 2,
   "id": "22fc2257-c84a-44d2-87d3-0d1ccb2d058c",
   "metadata": {},
   "outputs": [],
   "source": [
    "import requests\n",
    "import json\n",
    "import time\n",
    "import os\n",
    "from dotenv import load_dotenv\n",
    "import pandas as pd \n",
    "from queries import * \n",
    "import streamlit as st\n",
    "load_dotenv()\n",
    "\n",
    "class Flipsider:\n",
    "    def __init__(self, API_KEY, TTL_MINUTES=15):\n",
    "        self.API_KEY = API_KEY\n",
    "        self.TTL_MINUTES = TTL_MINUTES\n",
    "\n",
    "    def create_query(self, SQL_QUERY):\n",
    "        r = requests.post(\n",
    "            'https://node-api.flipsidecrypto.com/queries', \n",
    "            data=json.dumps({\n",
    "                \"sql\": SQL_QUERY,\n",
    "                \"ttlMinutes\": self.TTL_MINUTES\n",
    "            }),\n",
    "            headers={\"Accept\": \"application/json\", \"Content-Type\": \"application/json\", \"x-api-key\": self.API_KEY},\n",
    "        )\n",
    "        if r.status_code != 200:\n",
    "            raise Exception(\"Error creating query, got response: \" + r.text + \"with status code: \" + str(r.status_code))\n",
    "\n",
    "        return json.loads(r.text)    \n",
    "\n",
    "\n",
    "    def get_query_results(self, token):\n",
    "        r = requests.get(\n",
    "            'https://node-api.flipsidecrypto.com/queries/' + token, \n",
    "            headers={\"Accept\": \"application/json\", \"Content-Type\": \"application/json\", \"x-api-key\": self.API_KEY}\n",
    "        )\n",
    "        if r.status_code != 200:\n",
    "            raise Exception(\"Error getting query results, got response: \" + r.text + \"with status code: \" + str(r.status_code))\n",
    "        \n",
    "        data = json.loads(r.text)\n",
    "        if data['status'] == 'running':\n",
    "            time.sleep(10)\n",
    "            return self.get_query_results(token)\n",
    "\n",
    "        return data\n",
    "\n",
    "\n",
    "    def run(self, SQL_QUERY):\n",
    "        query = self.create_query(SQL_QUERY)\n",
    "        token = query.get('token')\n",
    "        data = self.get_query_results(token)\n",
    "        df = pd.DataFrame(data['results'],columns = data['columnLabels'])\n",
    "        return df\n",
    "    \n",
    "def load_queries():\n",
    "    bot = Flipsider(os.getenv('API_KEY'))\n",
    "    df = bot.run(SQL_QUERY)\n",
    "    df_images = bot.run(IMAGE_QUERY)\n",
    "    df_minted = bot.run(MINTED_QUERY)\n",
    "    return df, df_images, df_minted"
   ]
  },
  {
   "cell_type": "code",
   "execution_count": 3,
   "id": "bf585f2e-2d5d-4876-ab27-34f76d828f22",
   "metadata": {},
   "outputs": [],
   "source": [
    "df, df_images, df_minted = load_queries()"
   ]
  },
  {
   "cell_type": "code",
   "execution_count": null,
   "id": "46882d10-e688-4d70-a29f-c7c61e2a0911",
   "metadata": {},
   "outputs": [],
   "source": []
  },
  {
   "cell_type": "code",
   "execution_count": 12,
   "id": "21706996-e099-4015-bf53-de9e41d07b11",
   "metadata": {},
   "outputs": [
    {
     "data": {
      "image/png": "[encoded data removed]",
      "text/plain": [
       "<Figure size 432x288 with 1 Axes>"
      ]
     },
     "metadata": {
      "needs_background": "light"
     },
     "output_type": "display_data"
    }
   ],
   "source": [
    "import seaborn as sns\n",
    "import matplotlib.pyplot as plt\n",
    "\n",
    "def number_plot(df):\n",
    "    fig,ax = plt.subplots()\n",
    "    df.reset_index()['TOKENID'].plot()\n",
    "    #plt.xticks([])\n",
    "    plt.xlabel('Addresses')\n",
    "    plt.ylabel('Number of NFTs Minted')\n",
    "    sns.despine()\n",
    "return fig"
   ]
  },
  {
   "cell_type": "code",
   "execution_count": 13,
   "id": "cedb6d1b-302d-4ba6-b675-6bb96a33c258",
   "metadata": {},
   "outputs": [],
   "source": [
    "eth_df = df.query('SYMBOL==\"ETH\"')"
   ]
  },
  {
   "cell_type": "code",
   "execution_count": 15,
   "id": "ea4045de-82dd-41b6-be16-c723b08d8e77",
   "metadata": {},
   "outputs": [],
   "source": [
    "ser = eth_df.query(\"BALANCE_DATE=='2022-06-07'\").sort_values('BALANCE',ascending=False)"
   ]
  },
  {
   "cell_type": "code",
   "execution_count": 18,
   "id": "79642eb1-9ae3-45fd-b812-05a725f03d30",
   "metadata": {},
   "outputs": [
    {
     "name": "stdout",
     "output_type": "stream",
     "text": [
      "996.209284378\n",
      "55.380575463\n",
      "12.62410701\n",
      "7.409416651\n",
      "5.362618295\n",
      "5.054829946\n",
      "4.993266582\n"
     ]
    }
   ],
   "source": [
    "for i,val in ser.iloc[:7,:].iterrows():\n",
    "    print(val['BALANCE'])"
   ]
  },
  {
   "cell_type": "code",
   "execution_count": 27,
   "id": "c2f62151-0db0-48bb-a71b-3cc10a64a4fc",
   "metadata": {},
   "outputs": [
    {
     "data": {
      "text/plain": [
       "(-0.0995, 0.04]    28\n",
       "(0.6, 996.2]       28\n",
       "(0.04, 0.1]        27\n",
       "(0.1, 0.2]         27\n",
       "(0.2, 0.6]         27\n",
       "Name: BALANCE, dtype: int64"
      ]
     },
     "execution_count": 27,
     "metadata": {},
     "output_type": "execute_result"
    }
   ],
   "source": [
    "pd.qcut(ser['BALANCE'], q=5, precision=0).value_counts()"
   ]
  },
  {
   "cell_type": "code",
   "execution_count": null,
   "id": "3f31fc87-405f-4454-9c17-51bdeee86f60",
   "metadata": {},
   "outputs": [],
   "source": [
    "mapper = {}"
   ]
  },
  {
   "cell_type": "code",
   "execution_count": 37,
   "id": "cd695c86-3553-4a37-a029-8f26094d46dc",
   "metadata": {},
   "outputs": [
    {
     "data": {
      "text/plain": [
       "88"
      ]
     },
     "execution_count": 37,
     "metadata": {},
     "output_type": "execute_result"
    }
   ],
   "source": [
    "(ser['BALANCE']>0.1).sum()"
   ]
  },
  {
   "cell_type": "code",
   "execution_count": null,
   "id": "8988ba1b-b3fb-4648-bc71-c5a9a253b638",
   "metadata": {},
   "outputs": [],
   "source": []
  },
  {
   "cell_type": "code",
   "execution_count": null,
   "id": "85a620ee-0d5b-4778-8a9c-d45773080a9e",
   "metadata": {},
   "outputs": [],
   "source": []
  },
  {
   "cell_type": "code",
   "execution_count": 23,
   "id": "a469323c-810e-4486-8a97-2217cd9be3e3",
   "metadata": {},
   "outputs": [
    {
     "data": {
      "text/plain": [
       "<AxesSubplot:ylabel='Frequency'>"
      ]
     },
     "execution_count": 23,
     "metadata": {},
     "output_type": "execute_result"
    },
    {
     "data": {
      "image/png": "[encoded data removed]",
      "text/plain": [
       "<Figure size 432x288 with 1 Axes>"
      ]
     },
     "metadata": {
      "needs_background": "light"
     },
     "output_type": "display_data"
    }
   ],
   "source": [
    "pd.qcut(ser['BALANCE'], q=10, precision=0).value_counts().plot.hist()"
   ]
  },
  {
   "cell_type": "code",
   "execution_count": null,
   "id": "fe8923fc-3532-4199-a29c-daceac2b1bf4",
   "metadata": {},
   "outputs": [],
   "source": []
  },
  {
   "cell_type": "code",
   "execution_count": 20,
   "id": "8f5720a8-67e4-480b-b2ac-aee448105cc3",
   "metadata": {},
   "outputs": [
    {
     "data": {
      "text/plain": [
       "<AxesSubplot:ylabel='Frequency'>"
      ]
     },
     "execution_count": 20,
     "metadata": {},
     "output_type": "execute_result"
    },
    {
     "data": {
      "image/png": "[encoded data removed]",
      "text/plain": [
       "<Figure size 432x288 with 1 Axes>"
      ]
     },
     "metadata": {
      "needs_background": "light"
     },
     "output_type": "display_data"
    }
   ],
   "source": [
    "ser['BALANCE'].plot.hist()"
   ]
  },
  {
   "cell_type": "code",
   "execution_count": null,
   "id": "d4626db4-a77e-428a-aa51-f487098b5100",
   "metadata": {},
   "outputs": [],
   "source": [
    "def eth_plot(df):\n",
    "    fig,ax = plt.subplots()\n",
    "    df.plot(x='USER_ADDRESS',y='BALANCE',hue='BALANCE_DATE')\n",
    "    #plt.xticks([])\n",
    "    plt.xlabel('Addresses')\n",
    "    plt.ylabel('ETH balance')\n",
    "    sns.despine()\n",
    "return fig"
   ]
  },
  {
   "cell_type": "code",
   "execution_count": 14,
   "id": "a2882379-5504-4cd3-860a-526149219054",
   "metadata": {},
   "outputs": [
    {
     "data": {
      "text/html": [
       "<div>\n",
       "<style scoped>\n",
       "    .dataframe tbody tr th:only-of-type {\n",
       "        vertical-align: middle;\n",
       "    }\n",
       "\n",
       "    .dataframe tbody tr th {\n",
       "        vertical-align: top;\n",
       "    }\n",
       "\n",
       "    .dataframe thead th {\n",
       "        text-align: right;\n",
       "    }\n",
       "</style>\n",
       "<table border=\"1\" class=\"dataframe\">\n",
       "  <thead>\n",
       "    <tr style=\"text-align: right;\">\n",
       "      <th></th>\n",
       "      <th>BALANCE_DATE</th>\n",
       "      <th>USER_ADDRESS</th>\n",
       "      <th>LABEL</th>\n",
       "      <th>CONTRACT_ADDRESS</th>\n",
       "      <th>SYMBOL</th>\n",
       "      <th>BALANCE</th>\n",
       "      <th>AMOUNT_USD</th>\n",
       "    </tr>\n",
       "  </thead>\n",
       "  <tbody>\n",
       "    <tr>\n",
       "      <th>10</th>\n",
       "      <td>2022-06-06</td>\n",
       "      <td>0x5ff923ceb80641a0156068eab163b52fdf57cab7</td>\n",
       "      <td>None</td>\n",
       "      <td>ETH</td>\n",
       "      <td>ETH</td>\n",
       "      <td>0.536813</td>\n",
       "      <td>1006.866715</td>\n",
       "    </tr>\n",
       "    <tr>\n",
       "      <th>13</th>\n",
       "      <td>2022-06-06</td>\n",
       "      <td>0x5970c498244ce30248711497b7886feca0077423</td>\n",
       "      <td>None</td>\n",
       "      <td>ETH</td>\n",
       "      <td>ETH</td>\n",
       "      <td>6.974145</td>\n",
       "      <td>13080.979476</td>\n",
       "    </tr>\n",
       "    <tr>\n",
       "      <th>15</th>\n",
       "      <td>2022-06-06</td>\n",
       "      <td>0x66d5e2840abb97feba4b471ee877e750dfb8271e</td>\n",
       "      <td>None</td>\n",
       "      <td>ETH</td>\n",
       "      <td>ETH</td>\n",
       "      <td>0.030014</td>\n",
       "      <td>56.295620</td>\n",
       "    </tr>\n",
       "    <tr>\n",
       "      <th>16</th>\n",
       "      <td>2022-06-07</td>\n",
       "      <td>0xa34f0a4e51a82529ee6db38c2448a8477a42f466</td>\n",
       "      <td>None</td>\n",
       "      <td>ETH</td>\n",
       "      <td>ETH</td>\n",
       "      <td>0.426497</td>\n",
       "      <td>750.470434</td>\n",
       "    </tr>\n",
       "    <tr>\n",
       "      <th>22</th>\n",
       "      <td>2022-06-07</td>\n",
       "      <td>0xa90db5f1130bbeb953c1f63b18575d7f65c85e70</td>\n",
       "      <td>None</td>\n",
       "      <td>ETH</td>\n",
       "      <td>ETH</td>\n",
       "      <td>0.629151</td>\n",
       "      <td>1107.063349</td>\n",
       "    </tr>\n",
       "    <tr>\n",
       "      <th>...</th>\n",
       "      <td>...</td>\n",
       "      <td>...</td>\n",
       "      <td>...</td>\n",
       "      <td>...</td>\n",
       "      <td>...</td>\n",
       "      <td>...</td>\n",
       "      <td>...</td>\n",
       "    </tr>\n",
       "    <tr>\n",
       "      <th>2304</th>\n",
       "      <td>2022-06-08</td>\n",
       "      <td>0x9ec949ee9494622d194311b704d730525d3693e5</td>\n",
       "      <td>None</td>\n",
       "      <td>ETH</td>\n",
       "      <td>ETH</td>\n",
       "      <td>0.629242</td>\n",
       "      <td>1131.871379</td>\n",
       "    </tr>\n",
       "    <tr>\n",
       "      <th>2306</th>\n",
       "      <td>2022-06-08</td>\n",
       "      <td>0x3e2e6134f72ba1fbb48fd5a840b11de9698e7b6d</td>\n",
       "      <td>None</td>\n",
       "      <td>ETH</td>\n",
       "      <td>ETH</td>\n",
       "      <td>1.052460</td>\n",
       "      <td>1893.147818</td>\n",
       "    </tr>\n",
       "    <tr>\n",
       "      <th>2307</th>\n",
       "      <td>2022-06-08</td>\n",
       "      <td>0x450f8eae88934991d2e4d64a782d05a6bd06c2d6</td>\n",
       "      <td>None</td>\n",
       "      <td>ETH</td>\n",
       "      <td>ETH</td>\n",
       "      <td>0.434473</td>\n",
       "      <td>781.523676</td>\n",
       "    </tr>\n",
       "    <tr>\n",
       "      <th>2316</th>\n",
       "      <td>2022-06-08</td>\n",
       "      <td>0x29e4e4ec7c7c27ad25cf09e82ed9f42587c3c995</td>\n",
       "      <td>None</td>\n",
       "      <td>ETH</td>\n",
       "      <td>ETH</td>\n",
       "      <td>0.069201</td>\n",
       "      <td>124.477993</td>\n",
       "    </tr>\n",
       "    <tr>\n",
       "      <th>2318</th>\n",
       "      <td>2022-06-08</td>\n",
       "      <td>0x553651a3c5fb03edb5a185b1155306fb8b5a59f7</td>\n",
       "      <td>None</td>\n",
       "      <td>ETH</td>\n",
       "      <td>ETH</td>\n",
       "      <td>0.024313</td>\n",
       "      <td>43.734595</td>\n",
       "    </tr>\n",
       "  </tbody>\n",
       "</table>\n",
       "<p>402 rows × 7 columns</p>\n",
       "</div>"
      ],
      "text/plain": [
       "     BALANCE_DATE                                USER_ADDRESS LABEL  \\\n",
       "10     2022-06-06  0x5ff923ceb80641a0156068eab163b52fdf57cab7  None   \n",
       "13     2022-06-06  0x5970c498244ce30248711497b7886feca0077423  None   \n",
       "15     2022-06-06  0x66d5e2840abb97feba4b471ee877e750dfb8271e  None   \n",
       "16     2022-06-07  0xa34f0a4e51a82529ee6db38c2448a8477a42f466  None   \n",
       "22     2022-06-07  0xa90db5f1130bbeb953c1f63b18575d7f65c85e70  None   \n",
       "...           ...                                         ...   ...   \n",
       "2304   2022-06-08  0x9ec949ee9494622d194311b704d730525d3693e5  None   \n",
       "2306   2022-06-08  0x3e2e6134f72ba1fbb48fd5a840b11de9698e7b6d  None   \n",
       "2307   2022-06-08  0x450f8eae88934991d2e4d64a782d05a6bd06c2d6  None   \n",
       "2316   2022-06-08  0x29e4e4ec7c7c27ad25cf09e82ed9f42587c3c995  None   \n",
       "2318   2022-06-08  0x553651a3c5fb03edb5a185b1155306fb8b5a59f7  None   \n",
       "\n",
       "     CONTRACT_ADDRESS SYMBOL   BALANCE    AMOUNT_USD  \n",
       "10                ETH    ETH  0.536813   1006.866715  \n",
       "13                ETH    ETH  6.974145  13080.979476  \n",
       "15                ETH    ETH  0.030014     56.295620  \n",
       "16                ETH    ETH  0.426497    750.470434  \n",
       "22                ETH    ETH  0.629151   1107.063349  \n",
       "...               ...    ...       ...           ...  \n",
       "2304              ETH    ETH  0.629242   1131.871379  \n",
       "2306              ETH    ETH  1.052460   1893.147818  \n",
       "2307              ETH    ETH  0.434473    781.523676  \n",
       "2316              ETH    ETH  0.069201    124.477993  \n",
       "2318              ETH    ETH  0.024313     43.734595  \n",
       "\n",
       "[402 rows x 7 columns]"
      ]
     },
     "execution_count": 14,
     "metadata": {},
     "output_type": "execute_result"
    }
   ],
   "source": [
    "eth_df"
   ]
  },
  {
   "cell_type": "code",
   "execution_count": 43,
   "id": "f960a5f3-3d52-457d-80ae-1062eb560a76",
   "metadata": {},
   "outputs": [
    {
     "data": {
      "text/plain": [
       "(48,)"
      ]
     },
     "execution_count": 43,
     "metadata": {},
     "output_type": "execute_result"
    }
   ],
   "source": [
    "df_images.groupby('BUYER_ADDRESS')['NFT_ADDRESS'].count().sort_values(ascending=False).shape"
   ]
  },
  {
   "cell_type": "code",
   "execution_count": 48,
   "id": "3c906958-421c-481c-9034-49a9925ba230",
   "metadata": {},
   "outputs": [
    {
     "data": {
      "text/plain": [
       "Index(['BUYER_ADDRESS', 'NFT_ADDRESS', 'TOKENID', 'PRICE', 'TOKEN_METADATA',\n",
       "       'TOKEN_METADATA_URI', 'TOKEN_NAME', 'PROJECT_NAME', 'IMAGE_URL'],\n",
       "      dtype='object')"
      ]
     },
     "execution_count": 48,
     "metadata": {},
     "output_type": "execute_result"
    }
   ],
   "source": [
    "df_images.columns"
   ]
  },
  {
   "cell_type": "code",
   "execution_count": 53,
   "id": "74027d1d-67dc-444b-a120-b6aa901af024",
   "metadata": {},
   "outputs": [
    {
     "data": {
      "text/plain": [
       "array(['0x9014a73651b85fafe606142e72e202e02ea2bc54',\n",
       "       '0x89fcb042d49e520b7bf1294bbd26f065b4531b99',\n",
       "       '0xf76e2d2bba0292cf88f71934aff52ea54baa64d9',\n",
       "       '0xc331d4889c9707e427b6494817bc2d024d370c9e',\n",
       "       '0xc097c9040be2ec999feacf744d174d414ddf0ec9',\n",
       "       '0xb9be40bdec31ec3935830acc8bcaad1a431f8bb0',\n",
       "       '0xf7c4e374e116b68c5324463949ba3c5275b27236',\n",
       "       '0x4ae2ad5ba3f47ec7d02550e757d0b631e94314a7',\n",
       "       '0xa1e989803e07c24d48af1be2e9c8ebf7b16ae2e0',\n",
       "       '0xcf6876ea88e2c1250806f24447de64083105e24d',\n",
       "       '0x480ee4db7707f1420d77fe572c3f6169ba114705',\n",
       "       '0xb03fff6ad3f1ee2a0dca9ec942ff191890e7f0b9',\n",
       "       '0xb9f5039273a63275d2f15e3c970bdbfcf47d0a5f',\n",
       "       '0xc6ccc232fa6bb1c927686bcf3301a3e5aa28c68f',\n",
       "       '0x12e016da9c6d90fc0d9ce2ac337c948f62c9fa4a',\n",
       "       '0x54599674a59541ffe0cee450ff6f09a05861bd42',\n",
       "       '0xa3311e40ac917e30f65cdaacfdc59339daeb9d5e',\n",
       "       '0x53da4d2c5ac6e18fe5568ab305436ec2ed93ccc1',\n",
       "       '0x87049c7c047a84f58a3549da0d2d48e7347a4e06',\n",
       "       '0x84df49b1d4fdcee1e3b410669b7e5087412b411b',\n",
       "       '0xc4b8fe4ee7d45548ce04bd3855c0e76553c88530',\n",
       "       '0x96a4a06067509b516d47be4cbbad30c4d33e200e',\n",
       "       '0x9288f7ae3b1eb9991181ac03f6b4c3aeed8b7f21',\n",
       "       '0x823be8145d16169303650e6c9bf34bda93a9f9df',\n",
       "       '0xdc23c31c57747ee7cb2bb4b06af2ceab29e33cdb',\n",
       "       '0x9d49cfe50bf195f6823fdbf264182ca436672a52',\n",
       "       '0x229774945909450aea9ae676250012968ea5c93c',\n",
       "       '0x415628f36a1f84c23b18e37ff652a3a8d3cfc5c5',\n",
       "       '0xa0f00e59ef57d82449accb05b9512a47b264374b',\n",
       "       '0x3c1d6deb260a173059e030fa29d053545e7bc821',\n",
       "       '0xb7d44a3f99ca6874a30b69d360a9e9983b1d70d5',\n",
       "       '0x87803829543c026a30297c47925278c69d8d44a7',\n",
       "       '0x17766886787dfbc9305b731215a22d9feab7317c',\n",
       "       '0x5ff923ceb80641a0156068eab163b52fdf57cab7',\n",
       "       '0x5ecc25d1f658af69d9b59fcaedb2d9ee38254036',\n",
       "       '0xfecc1e8d2f41454ebb1710767af901c0975da7fc',\n",
       "       '0x5eda9fe647207e4e1076464a2d82d63d4e981227',\n",
       "       '0x0b02f1a3768ffc6baf906005d8f0e560c32d989f',\n",
       "       '0xc0c512e335ac7a73980b431875622925c2d2b498',\n",
       "       '0xffd4b62489dd59642659109f67ae46176db15a5a',\n",
       "       '0x9ec949ee9494622d194311b704d730525d3693e5',\n",
       "       '0xaee6b099f09142f95d0680c379c82c0a3d306a64',\n",
       "       '0xd64b4935059bb782aaf138777a5d5125ef5a210e',\n",
       "       '0x3085ed07180e8a052346bebd8385e2c4f4fb8035',\n",
       "       '0x6eb1c39b3fab5e056b7e9ad0287de8e209fe0536',\n",
       "       '0x6165821a4540047bc8b16481a4a2e93a4c003d8a',\n",
       "       '0xd457f2e2927e2a593b4a7a2f86b43a130d885bb8',\n",
       "       '0x64ac697f84bcddfacab514f07dd147c6958a7915'], dtype=object)"
      ]
     },
     "execution_count": 53,
     "metadata": {},
     "output_type": "execute_result"
    }
   ],
   "source": [
    "df_images.sort_values('TOKEN_METADATA_URI')['BUYER_ADDRESS'].unique()"
   ]
  },
  {
   "cell_type": "code",
   "execution_count": 49,
   "id": "a9278d61-9f44-4f21-aade-af3bfb65bb12",
   "metadata": {},
   "outputs": [
    {
     "data": {
      "text/html": [
       "<div>\n",
       "<style scoped>\n",
       "    .dataframe tbody tr th:only-of-type {\n",
       "        vertical-align: middle;\n",
       "    }\n",
       "\n",
       "    .dataframe tbody tr th {\n",
       "        vertical-align: top;\n",
       "    }\n",
       "\n",
       "    .dataframe thead th {\n",
       "        text-align: right;\n",
       "    }\n",
       "</style>\n",
       "<table border=\"1\" class=\"dataframe\">\n",
       "  <thead>\n",
       "    <tr style=\"text-align: right;\">\n",
       "      <th></th>\n",
       "      <th>BUYER_ADDRESS</th>\n",
       "      <th>NFT_ADDRESS</th>\n",
       "      <th>TOKENID</th>\n",
       "      <th>PRICE</th>\n",
       "      <th>TOKEN_METADATA</th>\n",
       "      <th>TOKEN_METADATA_URI</th>\n",
       "      <th>TOKEN_NAME</th>\n",
       "      <th>PROJECT_NAME</th>\n",
       "      <th>IMAGE_URL</th>\n",
       "    </tr>\n",
       "  </thead>\n",
       "  <tbody>\n",
       "    <tr>\n",
       "      <th>512</th>\n",
       "      <td>0x9014a73651b85fafe606142e72e202e02ea2bc54</td>\n",
       "      <td>0x31385d3520bced94f77aae104b406994d8f2168c</td>\n",
       "      <td>6467</td>\n",
       "      <td>0.21</td>\n",
       "      <td>{'background': 'solid af', 'bad habit(s)': 'pi...</td>\n",
       "      <td>https://api.bastardganpunks.club/6467</td>\n",
       "      <td>BASTARD GAN PUNK V2 #6467</td>\n",
       "      <td>BASTARD GAN PUNKS V2</td>\n",
       "      <td>https://storage.googleapis.com/sentinel-nft/ra...</td>\n",
       "    </tr>\n",
       "    <tr>\n",
       "      <th>513</th>\n",
       "      <td>0x89fcb042d49e520b7bf1294bbd26f065b4531b99</td>\n",
       "      <td>0x31385d3520bced94f77aae104b406994d8f2168c</td>\n",
       "      <td>5876</td>\n",
       "      <td>0.35</td>\n",
       "      <td>{'background': 'solid af', 'bad habit(s)': 'va...</td>\n",
       "      <td>https://api.bastardganpunks.club/5876</td>\n",
       "      <td>BASTARD GAN PUNK V2 #5876</td>\n",
       "      <td>BASTARD GAN PUNKS V2</td>\n",
       "      <td>https://storage.googleapis.com/sentinel-nft/ra...</td>\n",
       "    </tr>\n",
       "    <tr>\n",
       "      <th>514</th>\n",
       "      <td>0xf76e2d2bba0292cf88f71934aff52ea54baa64d9</td>\n",
       "      <td>0x31385d3520bced94f77aae104b406994d8f2168c</td>\n",
       "      <td>6830</td>\n",
       "      <td>0.42</td>\n",
       "      <td>{'background': 'glitchy af', 'bad habit(s)': '...</td>\n",
       "      <td>https://api.bastardganpunks.club/6830</td>\n",
       "      <td>BASTARD GAN PUNK V2 #6830</td>\n",
       "      <td>BASTARD GAN PUNKS V2</td>\n",
       "      <td>https://storage.googleapis.com/sentinel-nft/ra...</td>\n",
       "    </tr>\n",
       "    <tr>\n",
       "      <th>515</th>\n",
       "      <td>0x9014a73651b85fafe606142e72e202e02ea2bc54</td>\n",
       "      <td>0x31385d3520bced94f77aae104b406994d8f2168c</td>\n",
       "      <td>1527</td>\n",
       "      <td>0.20</td>\n",
       "      <td>{'background': 'solid af', 'bad habit(s)': 'ed...</td>\n",
       "      <td>https://api.bastardganpunks.club/1527</td>\n",
       "      <td>BASTARD GAN PUNK V2 #1527</td>\n",
       "      <td>BASTARD GAN PUNKS V2</td>\n",
       "      <td>https://storage.googleapis.com/sentinel-nft/ra...</td>\n",
       "    </tr>\n",
       "    <tr>\n",
       "      <th>516</th>\n",
       "      <td>0xc331d4889c9707e427b6494817bc2d024d370c9e</td>\n",
       "      <td>0x23581767a106ae21c074b2276d25e5c3e136a68b</td>\n",
       "      <td>6702</td>\n",
       "      <td>9.90</td>\n",
       "      <td>{'background': 'gray', 'beak': 'small', 'body'...</td>\n",
       "      <td>https://live---metadata-5covpqijaa-uc.a.run.ap...</td>\n",
       "      <td>#6702</td>\n",
       "      <td>Moonbirds</td>\n",
       "      <td>https://storage.googleapis.com/sentinel-nft/ra...</td>\n",
       "    </tr>\n",
       "  </tbody>\n",
       "</table>\n",
       "</div>"
      ],
      "text/plain": [
       "                                  BUYER_ADDRESS  \\\n",
       "512  0x9014a73651b85fafe606142e72e202e02ea2bc54   \n",
       "513  0x89fcb042d49e520b7bf1294bbd26f065b4531b99   \n",
       "514  0xf76e2d2bba0292cf88f71934aff52ea54baa64d9   \n",
       "515  0x9014a73651b85fafe606142e72e202e02ea2bc54   \n",
       "516  0xc331d4889c9707e427b6494817bc2d024d370c9e   \n",
       "\n",
       "                                    NFT_ADDRESS TOKENID  PRICE  \\\n",
       "512  0x31385d3520bced94f77aae104b406994d8f2168c    6467   0.21   \n",
       "513  0x31385d3520bced94f77aae104b406994d8f2168c    5876   0.35   \n",
       "514  0x31385d3520bced94f77aae104b406994d8f2168c    6830   0.42   \n",
       "515  0x31385d3520bced94f77aae104b406994d8f2168c    1527   0.20   \n",
       "516  0x23581767a106ae21c074b2276d25e5c3e136a68b    6702   9.90   \n",
       "\n",
       "                                        TOKEN_METADATA  \\\n",
       "512  {'background': 'solid af', 'bad habit(s)': 'pi...   \n",
       "513  {'background': 'solid af', 'bad habit(s)': 'va...   \n",
       "514  {'background': 'glitchy af', 'bad habit(s)': '...   \n",
       "515  {'background': 'solid af', 'bad habit(s)': 'ed...   \n",
       "516  {'background': 'gray', 'beak': 'small', 'body'...   \n",
       "\n",
       "                                    TOKEN_METADATA_URI  \\\n",
       "512              https://api.bastardganpunks.club/6467   \n",
       "513              https://api.bastardganpunks.club/5876   \n",
       "514              https://api.bastardganpunks.club/6830   \n",
       "515              https://api.bastardganpunks.club/1527   \n",
       "516  https://live---metadata-5covpqijaa-uc.a.run.ap...   \n",
       "\n",
       "                    TOKEN_NAME          PROJECT_NAME  \\\n",
       "512  BASTARD GAN PUNK V2 #6467  BASTARD GAN PUNKS V2   \n",
       "513  BASTARD GAN PUNK V2 #5876  BASTARD GAN PUNKS V2   \n",
       "514  BASTARD GAN PUNK V2 #6830  BASTARD GAN PUNKS V2   \n",
       "515  BASTARD GAN PUNK V2 #1527  BASTARD GAN PUNKS V2   \n",
       "516                      #6702             Moonbirds   \n",
       "\n",
       "                                             IMAGE_URL  \n",
       "512  https://storage.googleapis.com/sentinel-nft/ra...  \n",
       "513  https://storage.googleapis.com/sentinel-nft/ra...  \n",
       "514  https://storage.googleapis.com/sentinel-nft/ra...  \n",
       "515  https://storage.googleapis.com/sentinel-nft/ra...  \n",
       "516  https://storage.googleapis.com/sentinel-nft/ra...  "
      ]
     },
     "execution_count": 49,
     "metadata": {},
     "output_type": "execute_result"
    }
   ],
   "source": [
    "df_images.dropna(subset=['TOKEN_METADATA_URI'])"
   ]
  },
  {
   "cell_type": "code",
   "execution_count": null,
   "id": "9bf2b5fe-5ab7-4f36-abd8-ea1254f70a9e",
   "metadata": {},
   "outputs": [],
   "source": []
  }
 ],
 "metadata": {
  "kernelspec": {
   "display_name": "Python 3 (ipykernel)",
   "language": "python",
   "name": "python3"
  },
  "language_info": {
   "codemirror_mode": {
    "name": "ipython",
    "version": 3
   },
   "file_extension": ".py",
   "mimetype": "text/x-python",
   "name": "python",
   "nbconvert_exporter": "python",
   "pygments_lexer": "ipython3",
   "version": "3.8.13"
  }
 },
 "nbformat": 4,
 "nbformat_minor": 5
}
